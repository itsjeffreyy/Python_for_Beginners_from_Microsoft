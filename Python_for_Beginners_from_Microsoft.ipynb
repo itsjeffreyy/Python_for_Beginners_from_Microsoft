{
 "metadata": {
  "language_info": {
   "codemirror_mode": {
    "name": "ipython",
    "version": 3
   },
   "file_extension": ".py",
   "mimetype": "text/x-python",
   "name": "python",
   "nbconvert_exporter": "python",
   "pygments_lexer": "ipython3",
   "version": "3.7.4-final"
  },
  "orig_nbformat": 2,
  "kernelspec": {
   "name": "python3",
   "display_name": "Python 3.7.4 32-bit",
   "metadata": {
    "interpreter": {
     "hash": "55dfbee661f025a88fca74f3fadcfa1da90486e777e7ac91029956e769637e66"
    }
   }
  }
 },
 "nbformat": 4,
 "nbformat_minor": 2,
 "cells": [
  {
   "source": [
    "# Python for Beginners from Microsoft\n",
    "This notebook record the code of \"Python for Beginners\" [playlist](https://youtube.com/playlist?list=PLlrxD0HtieHhS8VzuMCfQD4uJ9yne1mE6). In this playlist, there are 44 video for teaching python coding.\n",
    "\n",
    "## Resource\n",
    "The \"Python for Beginners\" [playlist](https://youtube.com/playlist?list=PLlrxD0HtieHhS8VzuMCfQD4uJ9yne1mE6) of youtube on [Microsoft Developer](https://www.youtube.com/c/MicrosoftDeveloper) channel.\n",
    "\n",
    "There is another resource \"Introduction to Python\" website URL [Introduction to Python](https://docs.microsoft.com/en-us/learn/modules/intro-to-python/)\n",
    "\n",
    "---"
   ],
   "cell_type": "markdown",
   "metadata": {}
  },
  {
   "source": [
    "## Class #1 / 44 - Intro to Python Development\n",
    "\n",
    "### Hosts\n",
    "-  Susan Ibach \\\n",
    "Business Development, AI Gaming \\\n",
    "Geek out on data and conding \\\n",
    "http://hockeygeekgirl.com\n",
    "\n",
    "- Christopher Harrison \\\n",
    "Prodcut Manager, Academic Ecosystems, Microsoft \\\n",
    "Web developer at heart \\\n",
    "https://geektrainer.dev \n",
    "\n",
    "### Basic Python constrcts \n",
    "Focused on Python 3.x\n",
    "\n",
    "---\n"
   ],
   "cell_type": "markdown",
   "metadata": {}
  },
  {
   "source": [
    "## Class #2 / 44 - Getting started\n",
    "### What is Python ?\n",
    "[Python (programming language)](https://en.wikipedia.org/wiki/Python_(programming_language))\n",
    "- Flexible programming language\n",
    "- Dsigned to be human readable\n",
    "- Great starter language\n",
    "- Great advanced language\n",
    "- Wonderful community\n",
    "\n",
    "### What can I build with Python? \n",
    "- Machine learning models\n",
    "- Artificial intelligence projects\n",
    "- Web applications\n",
    "- Automation utilities\n",
    "- Anything, really\n",
    "\n",
    "---"
   ],
   "cell_type": "markdown",
   "metadata": {}
  },
  {
   "source": [
    "## Class #3 / 44 - How to Get started\n",
    "### Somewhere for Python to run\n",
    "- Interpreter\n",
    "Installation\n",
    "https://www.python.org/downloads/\n",
    "\n",
    "python version 3\n",
    "\n",
    "### Something for writing Python\n",
    "- Editor\n",
    "Installation\n",
    "https://code.visualstudio.com/\n",
    "\n",
    "Visual Studio code\n",
    "\n",
    "---"
   ],
   "cell_type": "markdown",
   "metadata": {}
  },
  {
   "source": [
    "## Class #4 / 44 - How to install\n",
    "\n",
    "Install python package in the VScode. This package include many thing of python.\n",
    "\n",
    "---"
   ],
   "cell_type": "markdown",
   "metadata": {}
  },
  {
   "source": [
    "## Class #5 / 44 - print\n",
    "\n",
    "### print displays output to your console\n"
   ],
   "cell_type": "markdown",
   "metadata": {}
  },
  {
   "cell_type": "code",
   "execution_count": null,
   "metadata": {},
   "outputs": [],
   "source": [
    "print('Hello world')\n",
    "print('Hello world single quotes')\n",
    "print(\"Hello world double quotes\")"
   ]
  },
  {
   "source": [
    "### Getting information from the user"
   ],
   "cell_type": "markdown",
   "metadata": {}
  },
  {
   "cell_type": "code",
   "execution_count": null,
   "metadata": {},
   "outputs": [],
   "source": [
    "name = input('Please enter your name: ')\n",
    "print(name)"
   ]
  },
  {
   "source": [
    "### Printing blank lines can improve readability"
   ],
   "cell_type": "markdown",
   "metadata": {}
  },
  {
   "cell_type": "code",
   "execution_count": null,
   "metadata": {},
   "outputs": [],
   "source": [
    "print('Hello world')\n",
    "print()\n",
    "print('Did you see that blank line?')\n",
    "print ('Blank line \\nin the middle of string')"
   ]
  },
  {
   "source": [
    "### Debudding with print\n",
    "\n",
    "One of the reasons print satements are really useful to to coding is because we can use them for debugging.\n",
    "\n",
    "Sometimes when we're writing code, an error message pops up or the codes just not doing what we think it should do. \n",
    "\n",
    "So sometimes we'll add print statements not because they actually make the code work but we write print statements so that when we're running the code and we're trying to figure out where it's blowing up to see which lines of code are executing successfully and where it's failing."
   ],
   "cell_type": "markdown",
   "metadata": {}
  },
  {
   "cell_type": "code",
   "execution_count": null,
   "metadata": {},
   "outputs": [],
   "source": [
    "print('Adding numbers')\n",
    "x = 42 + 206\n",
    "print('Performing division')\n",
    "y = x/0\n",
    "print('Math complete')"
   ]
  },
  {
   "source": [
    "You can see the error message \"division by zero\" pops up when you execute the code.\n",
    "\n",
    "---"
   ],
   "cell_type": "markdown",
   "metadata": {}
  },
  {
   "source": [
    "## Class #6 / 44 - How to install\n",
    "\n",
    "Visual Studio  Code working with the Python extension. \n",
    "\n",
    "1. create the folder in your system for saving your python files you are woring on.\n",
    "2. create a new file to write the python script.\n",
    "3. Save the file as the suffix name '.py', and VScode will cue python to exexute the file.\n",
    "\n"
   ],
   "cell_type": "markdown",
   "metadata": {}
  },
  {
   "cell_type": "code",
   "execution_count": null,
   "metadata": {},
   "outputs": [],
   "source": [
    "name = input(\"What's your name? \")\n",
    "print('Hello')\n",
    "print(name)"
   ]
  },
  {
   "cell_type": "code",
   "execution_count": null,
   "metadata": {},
   "outputs": [],
   "source": [
    "print(\"Hello\")\n",
    "print(\"World\")"
   ]
  },
  {
   "source": [
    "Users can use `clear` or `cls` to clean the terminal."
   ],
   "cell_type": "markdown",
   "metadata": {}
  },
  {
   "cell_type": "code",
   "execution_count": null,
   "metadata": {},
   "outputs": [],
   "source": [
    "print(\"Hello \\nworld\")"
   ]
  },
  {
   "source": [
    "Same result as the below one.\n",
    "\n",
    "The `print` used to debug, e.g. `523 / 0`, terminal will show the error message."
   ],
   "cell_type": "markdown",
   "metadata": {}
  },
  {
   "cell_type": "code",
   "execution_count": null,
   "metadata": {},
   "outputs": [],
   "source": [
    "x = 532 + 12\n",
    "y = x / 0\n",
    "print(\"I did the math\")"
   ]
  },
  {
   "cell_type": "code",
   "execution_count": null,
   "metadata": {},
   "outputs": [],
   "source": [
    "print(\"adding numbers\")\n",
    "x = 532 + 12\n",
    "print(\"dividing numbers\")\n",
    "y = x / 0\n",
    "print(\"I did the math\")"
   ]
  },
  {
   "source": [
    "Users can see the output shows error message after print `dividing numbers`. Then you will know the error occurs after `print(\"dividing numbers\")`.\n",
    "\n",
    "So print statument is a debugging tool.\n",
    "\n",
    "---\n",
    " "
   ],
   "cell_type": "markdown",
   "metadata": {}
  },
  {
   "source": [
    "## Class 7 / 44 - Commnets\n",
    "### We add comments into code using #\n",
    "\\# This is a comment in my code it does nothing\n",
    "\n",
    "### Lines that start with \\# are not executed\n",
    "Like below one."
   ],
   "cell_type": "markdown",
   "metadata": {}
  },
  {
   "cell_type": "code",
   "execution_count": null,
   "metadata": {},
   "outputs": [],
   "source": [
    "# This is a comment in my code it does noting\n",
    "# print('Hello world')\n",
    "# print(\"Hello world\")\n",
    "# No output will be displayed!"
   ]
  },
  {
   "source": [
    "### Comment calls to other programs to explain their purpose\n",
    "```\n",
    "# Enable PIN check as listed in\n",
    "# security requirements\n",
    "enable_pin(current_user, pin)\n",
    "```\n",
    "\n",
    "### Comments document your code so you and other programmers can understand the code"
   ],
   "cell_type": "markdown",
   "metadata": {}
  },
  {
   "cell_type": "code",
   "execution_count": null,
   "metadata": {},
   "outputs": [],
   "source": [
    "# Using double quotes for this string because\n",
    "# the string itself contains a single quotes\n",
    "print(\"It's a small world after all\")"
   ]
  },
  {
   "source": [
    "### Commenting lines of code can help you debug and figure out which line of code is causing an error\n",
    "```\n",
    "print('Hello world')\n",
    "# print('It's a small world after all')\n",
    "```\n",
    "\n",
    "---"
   ],
   "cell_type": "markdown",
   "metadata": {}
  },
  {
   "source": [
    "## Class 8 / 44 - How to use Comments\n"
   ],
   "cell_type": "markdown",
   "metadata": {}
  },
  {
   "cell_type": "code",
   "execution_count": null,
   "metadata": {},
   "outputs": [],
   "source": [
    "# this line of code does nothing\n",
    "print('Hello it's a small world')"
   ]
  },
  {
   "cell_type": "code",
   "execution_count": null,
   "metadata": {},
   "outputs": [],
   "source": [
    "# this line of code does nothing\n",
    "#print('Hello it's a small world')\n",
    "print(\"Hello it's a small world\")"
   ]
  },
  {
   "source": [
    "---\n",
    "\n",
    "## Class 9 / 44 - Working with strings\n",
    "### Strings can be stored in variables\n",
    "```\n",
    "first_name = 'Christopher'\n",
    "print(first_name)\n",
    "```\n",
    "The `first_name` is a variable.\n",
    "\n",
    "User don't have to use any form of a keyword or otherwise to declare a variable. \n",
    "\n",
    "Just simply give it a name, set it to some value."
   ],
   "cell_type": "markdown",
   "metadata": {}
  },
  {
   "cell_type": "code",
   "execution_count": null,
   "metadata": {},
   "outputs": [],
   "source": [
    "first_name = 'Christopher'\n",
    "print(first_name)"
   ]
  },
  {
   "source": [
    "### Combine strings with +\n"
   ],
   "cell_type": "markdown",
   "metadata": {}
  },
  {
   "cell_type": "code",
   "execution_count": null,
   "metadata": {},
   "outputs": [],
   "source": [
    "first_name = 'Christopher'\n",
    "last_name = 'Harrison'\n",
    "print(first_name + last_name)\n",
    "print('Hello ' + first_name + ' ' + last_name)"
   ]
  },
  {
   "source": [
    "### Use functions to modify strings\n",
    "The functions like\n",
    "\n",
    "- `variable.upper()` # show the characters of string all uppercase\n",
    "- `variable.lower()` # show the characters of string all lowercase\n",
    "- `variable.capitalize()` # show the first character of string uppercase\n",
    "- `variable.count()` # count the number of specific character in the string.\n"
   ],
   "cell_type": "markdown",
   "metadata": {}
  },
  {
   "cell_type": "code",
   "execution_count": null,
   "metadata": {},
   "outputs": [],
   "source": [
    "sentence = 'The dog is named Sammy'\n",
    "print(sentence.upper())\n",
    "print(sentence.lower())\n",
    "print(sentence.capitalize())\n",
    "print(sentence.count('a'))"
   ]
  },
  {
   "source": [
    "### The functions format strings we save to files and databases, or display to users\n"
   ],
   "cell_type": "markdown",
   "metadata": {}
  },
  {
   "cell_type": "code",
   "execution_count": null,
   "metadata": {},
   "outputs": [],
   "source": [
    "first_name = input('What is your first name? ')\n",
    "last_name = input('What is your last name? ')\n",
    "print('Hello ' + first_name.capitalize() + ' ' + last_name.capitalize())"
   ]
  },
  {
   "source": [
    "---\n",
    "\n",
    "## Class 10 / 44 - Demo: Strings Code\n",
    "\n",
    "In the VS code, user can use tab on keyboard to autocomplete the code when you typing code.\n",
    "\n",
    "Some functions of python extention in VS code will help user to code easy, like, show warning with green underline.\n",
    "\n",
    "---\n",
    "\n",
    "## Class 11 / 44 - Strings Format\n",
    "\n",
    "### Custom string formatting\n",
    "```\n",
    "output = 'Hello, ' + first_name + ' ' + last_name\n",
    "output = 'Hello, {} {}'.format(first_name, last_name)\n",
    "output = 'Hello, {0} {1}'.format(first_name, last_name)\n",
    "# Only available in Python 3\n",
    "output = f'Hello, {first_name} {last_name}'\n",
    "```\n",
    "\n",
    "The last method `f''` is the most suggested usage to print the format string, but needed Python version 3.\n"
   ],
   "cell_type": "markdown",
   "metadata": {}
  },
  {
   "cell_type": "code",
   "execution_count": null,
   "metadata": {},
   "outputs": [],
   "source": [
    "output = 'Hello, ' + first_name + ' ' + last_name\n",
    "print(output)\n",
    "output = 'Hello, {} {}'.format(first_name, last_name)\n",
    "print(output)\n",
    "output = 'Hello, {0} {1}'.format(first_name, last_name)\n",
    "print(output)\n",
    "# Only available in Python 3\n",
    "output = f'Hello, {first_name} {last_name}'\n",
    "print(output)"
   ]
  },
  {
   "source": [
    "---\n",
    "\n",
    "## Class 12 / 44 - Demo: Strings format code"
   ],
   "cell_type": "markdown",
   "metadata": {}
  },
  {
   "cell_type": "code",
   "execution_count": null,
   "metadata": {},
   "outputs": [],
   "source": [
    "first_name = 'Christopher'\n",
    "last_name = 'Harrison'\n",
    "\n",
    "#output = 'Hello, ' + first_name + ' ' + last_name\n",
    "#output = 'Hello, {} {}'.format(first_name, last_name)\n",
    "#output = 'Hello, {0} {1}'.format(first_name, last_name)\n",
    "#output = 'Hello, {1}, {0}'.format(first_name, last_name)\n",
    "output = f'Hello, {first_name} {last_name}'\n",
    "print(output)"
   ]
  },
  {
   "source": [
    "---\n",
    "\n",
    "## Class 13 / 44 - Working with numbers\n",
    "### Numbers can be stored in variables\n"
   ],
   "cell_type": "markdown",
   "metadata": {}
  },
  {
   "cell_type": "code",
   "execution_count": null,
   "metadata": {},
   "outputs": [],
   "source": [
    "pi = 3.14159\n",
    "print(pi)"
   ]
  },
  {
   "source": [
    "### You can do math with numbers\n",
    "\n",
    "\n",
    "| Symbol | Operation |\n",
    "| :--- | :--- |\n",
    "|`+`|Addition|\n",
    "|`-`|Subtraction|\n",
    "|`*`|Multiplication|\n",
    "|`/`|Division|\n",
    "|`**`|Exponent|"
   ],
   "cell_type": "markdown",
   "metadata": {}
  },
  {
   "cell_type": "code",
   "execution_count": null,
   "metadata": {},
   "outputs": [],
   "source": [
    "first_num = 6\n",
    "second_num = 2\n",
    "print(first_num + second_num)\n",
    "print(first_num ** second_num)"
   ]
  },
  {
   "source": [
    "### If you combine strings with numbers, Python gets confused\n",
    "\n",
    "When displaying a string that contains numbers you must convert the numbers into strings using `str()`."
   ],
   "cell_type": "markdown",
   "metadata": {}
  },
  {
   "cell_type": "code",
   "execution_count": null,
   "metadata": {},
   "outputs": [],
   "source": [
    "days_in_feb = 28\n",
    "print(days_in_feb + ' days in February')"
   ]
  },
  {
   "cell_type": "code",
   "execution_count": null,
   "metadata": {},
   "outputs": [],
   "source": [
    "print( str(days_in_feb) + ' days in February')"
   ]
  },
  {
   "source": [
    "### Numbers can be stored as strings\n",
    "\n",
    "Numbers stored as strings are treated as strings"
   ],
   "cell_type": "markdown",
   "metadata": {}
  },
  {
   "cell_type": "code",
   "execution_count": null,
   "metadata": {},
   "outputs": [],
   "source": [
    "first_num = '5'\n",
    "second_num = '6'\n",
    "print(first_num + second_num)"
   ]
  },
  {
   "source": [
    "### The input function always returns strings"
   ],
   "cell_type": "markdown",
   "metadata": {}
  },
  {
   "cell_type": "code",
   "execution_count": null,
   "metadata": {},
   "outputs": [],
   "source": [
    "first_num = input('Enter first number ')\n",
    "second_num = input('Enter second number ')\n",
    "print(first_num + second_num)"
   ]
  },
  {
   "source": [
    "### Numbers stored as strings must be converted to numeric values before doing math\n",
    "Using `float()` and `int()` to convert string into numeric."
   ],
   "cell_type": "markdown",
   "metadata": {}
  },
  {
   "cell_type": "code",
   "execution_count": null,
   "metadata": {},
   "outputs": [],
   "source": [
    "first_num = input('Enter first number ')\n",
    "second_num = input('Enter second number ')\n",
    "print(int(first_num) + int(second_num))\n",
    "print(float(first_num) + float(second_num))"
   ]
  },
  {
   "source": [
    "### Numeric values are used for math operations and to specify individual rows in lists and arrays\n",
    "1. `price_with_tax = price + price * federal_tax`\n",
    "2. `module(currect_module)`\n",
    "\n",
    "---\n",
    "\n",
    "## Class 14 / 44 - Demo: Numbers in Code\n",
    "\n",
    "comment shortcut:  ctrl k+c"
   ],
   "cell_type": "markdown",
   "metadata": {}
  },
  {
   "cell_type": "code",
   "execution_count": null,
   "metadata": {},
   "outputs": [],
   "source": [
    "pi = 3.14159\n",
    "print(pi)"
   ]
  },
  {
   "cell_type": "code",
   "execution_count": null,
   "metadata": {},
   "outputs": [],
   "source": [
    "first_num = 5\n",
    "second_num = 6\n",
    "print(first_num + second_num)\n",
    "print(first_num * second_num)\n",
    "print(first_num ** second_num)"
   ]
  },
  {
   "cell_type": "code",
   "execution_count": null,
   "metadata": {},
   "outputs": [],
   "source": [
    "first_num = input('Enter first number ')\n",
    "second_num = input('Enter second number ')\n",
    "print(first_num + second_num)\n",
    "print(int(first_num) + int(second_num))\n",
    "print(float(first_num) + float(second_num))\n",
    "print(int(first_num) * int(second_num))\n",
    "print(int(first_num) ** int(second_num))"
   ]
  },
  {
   "cell_type": "code",
   "execution_count": null,
   "metadata": {},
   "outputs": [],
   "source": [
    "days_in_feb = 28\n",
    "print(str(days_in_feb) + ' total days in February')"
   ]
  },
  {
   "source": [
    "---\n",
    "\n",
    "## Class 15 / 44 - Dates\n",
    "\n",
    "### We often need current date and time when logging errors and saving data\n",
    "\n",
    "The `datetime` Pyhon module is used to get the date and time information."
   ],
   "cell_type": "markdown",
   "metadata": {}
  },
  {
   "cell_type": "code",
   "execution_count": null,
   "metadata": {},
   "outputs": [],
   "source": [
    "# To get current date and time\n",
    "# we need to use the datetime library\n",
    "from datetime import datetime\n",
    "\n",
    "current_date = datetime.now()\n",
    "# the now function returns a datetime object\n",
    "print('Today is: ' + str(current_date))"
   ]
  },
  {
   "source": [
    "### There are functions you can use with datetime objects to manipulate dates\n",
    "\n",
    "The `timedelta` Python module is used to define a period of time."
   ],
   "cell_type": "markdown",
   "metadata": {}
  },
  {
   "cell_type": "code",
   "execution_count": null,
   "metadata": {},
   "outputs": [],
   "source": [
    "from datetime import datetime, timedelta\n",
    "today = datetime.now()\n",
    "print('Today is: ' + str(today))\n",
    "\n",
    "# timedelta is used to define a period of time\n",
    "one_day = timedelta(days=1)\n",
    "yesterday = today - one_day\n",
    "print('Yesterday was: ' + str(yesterday))"
   ]
  },
  {
   "source": [
    "### Use date functions to control date formatting\n",
    "\n"
   ],
   "cell_type": "markdown",
   "metadata": {}
  },
  {
   "cell_type": "code",
   "execution_count": null,
   "metadata": {},
   "outputs": [],
   "source": [
    "from datetime import datetime\n",
    "current_date = datetime.now()\n",
    "\n",
    "print('Day: ' + str(current_date.day))\n",
    "print('Month: ' + str(current_date.month))\n",
    "print('Year: ' + str(current_date.year))\n",
    "print('Hour: ' + str(current_date.hour))\n",
    "print('Minuts: ' + str(current_date.minute))\n",
    "print('Second: ' + str(current_date.second))"
   ]
  },
  {
   "source": [
    "### Sometimes  you receive the date as a string and need to convert it to a datetime object\n",
    "\n",
    "The `%d/%m/%Y` options of `strptime` function, user can look up the documentation  on the `strptime` function.\n",
    "\n",
    "That's how user learns the syntax for this."
   ],
   "cell_type": "markdown",
   "metadata": {}
  },
  {
   "cell_type": "code",
   "execution_count": null,
   "metadata": {},
   "outputs": [],
   "source": [
    "from datetime import datetime\n",
    "birthday = input('When is your birthday (dd/mm/yyyy)? ')\n",
    "birthday_date = datetime.strptime(birthday, '%d/%m/%Y')\n",
    "print('Birthday: ' + str(birthday_date))"
   ]
  },
  {
   "source": [
    "### Converting it to datetime allows you to use the date functions\n",
    "```\n",
    "import timedelta\n",
    "one_day = timedelta(days=1)\n",
    "birthday_eve = birthday_date - one_day\n",
    "```"
   ],
   "cell_type": "markdown",
   "metadata": {}
  },
  {
   "cell_type": "code",
   "execution_count": null,
   "metadata": {},
   "outputs": [],
   "source": [
    "one_day = timedelta(days=1)\n",
    "birthday_eve = birthday_date - one_day\n",
    "print('Day before birthday: ' + str(birthday_eve))"
   ]
  },
  {
   "source": [
    "### Make sure you add exception handling in case the date entered is invalid\n",
    "\n",
    "If user enter wrong seperator, like `05-19-2005`, the code will blow up.\n",
    "\n",
    "---\n",
    "\n",
    "## Class 16 / 44 - Demo: Dates in code\n",
    "### `get_current_date.py`"
   ],
   "cell_type": "markdown",
   "metadata": {}
  },
  {
   "cell_type": "code",
   "execution_count": null,
   "metadata": {},
   "outputs": [],
   "source": [
    "# To get current date and time\n",
    "# we need to use the datetime library\n",
    "from datetime import datetime\n",
    "\n",
    "current_date = datetime.now()\n",
    "# the now function returns current date and time as a datetime object\n",
    "\n",
    "# You must convert the datetime object to a string\n",
    "# before you can concatenate it to another string\n",
    "print('Today is: ' + str(current_date))"
   ]
  },
  {
   "source": [
    "### `date_functions.py`"
   ],
   "cell_type": "markdown",
   "metadata": {}
  },
  {
   "cell_type": "code",
   "execution_count": null,
   "metadata": {},
   "outputs": [],
   "source": [
    "# To get current date and time we need to use the datetime library\n",
    "from datetime import datetime, timedelta\n",
    "\n",
    "# the now function returns current date and time\n",
    "today = datetime.now()\n",
    "\n",
    "print('Today is: ' + str(today))\n",
    "\n",
    "# timedelta is used to define a period of time\n",
    "# You can use timedelta to add or remove days, or weeks to a date\n",
    "one_day = timedelta(days=1)\n",
    "yesterday = today - one_day\n",
    "print('Yesterday was: ' + str(yesterday))\n",
    "\n",
    "one_week = timedelta(weeks=1)\n",
    "last_week = today - one_week\n",
    "print('Last week was: ' + str(last_week))"
   ]
  },
  {
   "source": [
    "### `format_date.py`"
   ],
   "cell_type": "markdown",
   "metadata": {}
  },
  {
   "cell_type": "code",
   "execution_count": null,
   "metadata": {},
   "outputs": [],
   "source": [
    "# To get current date and time we need to use the datetime library\n",
    "from datetime import datetime\n",
    "\n",
    "# the now function returns current date and time\n",
    "today = datetime.now()\n",
    "\n",
    "# use day, month, year, hour, minute, second functions\n",
    "# to display only part of the date\n",
    "# All these functions return intergers\n",
    "# Conver them to strings before concatenating them to another string\n",
    "print('Day: ' + str(current_date.day))\n",
    "print('Month: ' + str(current_date.month))\n",
    "print('Year: ' + str(current_date.year))\n",
    "print('Hour: ' + str(current_date.hour))\n",
    "print('Minuts: ' + str(current_date.minute))\n",
    "print('Second: ' + str(current_date.second))"
   ]
  },
  {
   "source": [
    "### `input_date.py`"
   ],
   "cell_type": "markdown",
   "metadata": {}
  },
  {
   "cell_type": "code",
   "execution_count": null,
   "metadata": {},
   "outputs": [],
   "source": [
    "# To get current date and time we need to use the datetime library\n",
    "from datetime import datetime, timedelta\n",
    "\n",
    "birthday = input('When is your birthday (dd/mm/yyyy)? ')\n",
    "\n",
    "birthday_date = datetime.strptime(birthday, '%d/%m/%Y')\n",
    "\n",
    "print('Birthday: ' + str(birthday_date))\n",
    "\n",
    "one_day = timedelta(days=1)\n",
    "birthday_eve = birthday_date - one_day\n",
    "print('Day before birthday: ' + str(birthday_eve))"
   ]
  },
  {
   "source": [
    "---\n",
    "\n",
    "## Class 17 / 44 - Error handling\n",
    "### Defining terms\n",
    "\n",
    "- Error handling\n",
    "\n",
    "    When I have a problem with code that's running, and it's not something that I'm going to be able to predict when I pushed my code out to production.\n",
    "\n",
    "    The most common example of this would be a permissions issue, a database changing, a server being down, etc.\n",
    "\n",
    "    Those things that happen in the wild, those things that happen in the real world, there's things that I do not have control over.\n",
    "\n",
    "- Debugging\n",
    "\n",
    "    When I know that theres a problem with my code.\n",
    "    That it's potentially giving me a wrong answer, it's potentially crashing and I know that there's someting that I've done incorrectly that's causing my code to go sideways.\n",
    "\n",
    "### Error types\n",
    "- Syntax errors\n",
    "- Runtime errors\n",
    "- Logic errors"
   ],
   "cell_type": "markdown",
   "metadata": {}
  },
  {
   "source": [
    "#### Sytax errors\n",
    "\n",
    "Missing the colon `:` after `if x == y`"
   ],
   "cell_type": "markdown",
   "metadata": {}
  },
  {
   "cell_type": "code",
   "execution_count": null,
   "metadata": {},
   "outputs": [],
   "source": [
    "# Syntax errors\n",
    "# This code won't run at all\n",
    "x = 42\n",
    "y = 206\n",
    "if x == y\n",
    "    print('Success!!')"
   ]
  },
  {
   "source": [
    "#### Runtime errors"
   ],
   "cell_type": "markdown",
   "metadata": {}
  },
  {
   "cell_type": "code",
   "execution_count": null,
   "metadata": {},
   "outputs": [],
   "source": [
    "# This code will fail when run\n",
    "x = 42\n",
    "y = 0\n",
    "print(x / y)"
   ]
  },
  {
   "source": [
    "#### Catch runtime errors\n",
    "\n",
    "try:\n",
    "    print(x / y)\n",
    "except ZeroDivisionError as e:\n",
    "    # Optionally, log e somewhere\n",
    "    print('Sorry, something went wrong')\n",
    "except:\n",
    "    print('Someting really went wrong')\n",
    "finally:\n",
    "    print('This always runs on success or failure')"
   ],
   "cell_type": "code",
   "metadata": {},
   "execution_count": null,
   "outputs": []
  },
  {
   "source": [
    "### Some final words on try/except/finally\n",
    " \n",
    "- Not used to find bugs\n",
    "    Debugging, not error handling\n",
    "- You don't have to catch all errors\n",
    "\n",
    "    Let it bubble up\n",
    "\n",
    "    someone else will deal with it\n",
    "\n",
    "    The application will crash\n",
    "    \n",
    "    Sometimes, this is exactly what you want to happen"
   ],
   "cell_type": "markdown",
   "metadata": {}
  },
  {
   "source": [
    "#### Logic errors\n",
    "\n",
    "When code compiles properly if you will, there's no syntax errors. \n",
    "\n",
    "It doesn't give us an error message, so there's no runtime errors.\n",
    "\n",
    "It just doesn't give us the response that we're looking for.\n",
    "\n",
    "In the below case, the logic error is `x < y`. The correct logic is `x > y`."
   ],
   "cell_type": "markdown",
   "metadata": {}
  },
  {
   "cell_type": "code",
   "execution_count": null,
   "metadata": {},
   "outputs": [],
   "source": [
    "# Logic errors\n",
    "# This code won't run at all\n",
    "x = 206\n",
    "y = 42\n",
    "if x < y:\n",
    "    print(str(x) +' is greater than '+ str(y))"
   ]
  },
  {
   "source": [
    "### Figuring out what went wrong\n",
    "- stack trace\n",
    "    - Last calls are on the top\n",
    "    - Your code is likely on the bottom\n",
    "    - Seek out line numbers\n",
    "\n",
    "- Finding your mistacke\n",
    "    - Reread you code\n",
    "    - Check the documentation\n",
    "    - Search the internet\n",
    "    - Take a break\n",
    "    - Ask someone for help\n",
    "\n",
    "---"
   ],
   "cell_type": "markdown",
   "metadata": {}
  },
  {
   "source": [
    "## Class 18 / 44 - Demo: Error handling code"
   ],
   "cell_type": "markdown",
   "metadata": {}
  },
  {
   "cell_type": "code",
   "execution_count": null,
   "metadata": {},
   "outputs": [],
   "source": [
    "x = 42\n",
    "y = 0\n",
    "\n",
    "print()\n",
    "print(x / y)\n",
    "print()\n"
   ]
  },
  {
   "cell_type": "code",
   "execution_count": null,
   "metadata": {},
   "outputs": [],
   "source": [
    "x = 42\n",
    "y = 0\n",
    "\n",
    "try:\n",
    "    print(x / y)\n",
    "except ZeroDivisionError as e:\n",
    "    print('Not allowed to divide by zero')\n",
    "else:\n",
    "    print('Something else went wrong')\n",
    "finally:\n",
    "    print('This is our cleanup code')\n",
    "print()"
   ]
  },
  {
   "source": [
    "## Class 19 / 44 - handling conditions\n",
    " \n",
    "### Your code needs the ability to take different actions based on different conditions\n",
    "```\n",
    "if price >= 1.00:\n",
    "    tax = .07\n",
    "    print(tax)\n",
    "```\n",
    "The colon `:` at the end of condition (`price >= 1.00`), that is the Python-specific syntax and the indentation here.\n",
    "\n",
    "| symbol | Operation |\n",
    "|:---|:---|\n",
    "| > | Greater than |\n",
    "| < | Less than |\n",
    "| >= | Greater than or equal to |\n",
    "| <= | Less than or equal to |\n",
    "| == | is equal to |\n",
    "| != | is not equal to|\n",
    "\n",
    "### You can add a default action using `eles`\n",
    "\n",
    "```\n",
    "if price >= 1.00:\n",
    "    tax = .07\n",
    "    print(tax)\n",
    "else:\n",
    "   tax = 0\n",
    "   print(tax)\n",
    "```\n",
    "\n",
    "### How you indent your code changes execution\n",
    "\n",
    "Compare with below two examples.\n",
    "\n",
    "Ex1:\n",
    "```\n",
    "if price >= 1.00:\n",
    "    tax = .07\n",
    "    print(tax)\n",
    "else:\n",
    "    tax = 0\n",
    "    print(tax)\n",
    "```\n",
    "\n",
    "Ex2:\n",
    "```\n",
    "if price >= 1.00:\n",
    "    tax = .07\n",
    "else:\n",
    "    tax = 0\n",
    "print(tax)\n",
    "```\n",
    "\n",
    "### Be careful when comparing strings\n",
    "\n",
    "**String comparisons are case sensitive.**\n",
    "\n",
    "```\n",
    "country = 'CANADA'\n",
    "if country == 'canada':\n",
    "    print('Oh look a canadian')\n",
    "else:\n",
    "    print('You are not from Canada')\n",
    "```"
   ],
   "cell_type": "markdown",
   "metadata": {}
  },
  {
   "cell_type": "code",
   "execution_count": null,
   "metadata": {},
   "outputs": [],
   "source": [
    "country = 'CANADA'\n",
    "if country == 'canada':\n",
    "    print('Oh look a canadian')\n",
    "else:\n",
    "    print('You are not from Canada')"
   ]
  },
  {
   "source": [
    "### Use string functions to make case insensitive comparisons\n",
    "\n",
    "`str.lower()` function can convert all characters in string to lowercase.\n"
   ],
   "cell_type": "markdown",
   "metadata": {}
  },
  {
   "cell_type": "code",
   "execution_count": null,
   "metadata": {},
   "outputs": [],
   "source": [
    "country = 'CANADA'\n",
    "if country.lower() == 'canada':\n",
    "    print('Oh look a canadian')\n",
    "else:\n",
    "    print('You are not from Canada')"
   ]
  },
  {
   "source": [
    "### Conditions allow our code to react to different situations\n",
    "\n",
    "- Apply appropriate state or federal taxes based on location\n",
    "- Calculate salary based on job level\n",
    "- What to do if a file is not found\n",
    "- What to do if an expected value is missing"
   ],
   "cell_type": "markdown",
   "metadata": {}
  },
  {
   "source": [
    "---\n",
    "\n",
    "## Class 20 / 44 - Demo: Adding conditions\n",
    "### `check_tax.py`"
   ],
   "cell_type": "markdown",
   "metadata": {}
  },
  {
   "cell_type": "code",
   "execution_count": null,
   "metadata": {},
   "outputs": [],
   "source": [
    "price = input('How much did you pay? ')\n",
    "price = float(price)\n",
    "\n",
    "if price >= 1.00:\n",
    "    tax = .07\n",
    "    print('Tax rate is: ' + str(tax))"
   ]
  },
  {
   "source": [
    "### `add_else.py`"
   ],
   "cell_type": "markdown",
   "metadata": {}
  },
  {
   "cell_type": "code",
   "execution_count": null,
   "metadata": {},
   "outputs": [],
   "source": [
    "price = input('How much did you pay? ')\n",
    "price = float(price)\n",
    "\n",
    "if price >= 1.00:\n",
    "    tax = .07\n",
    "    print('Tax rate is: ' + str(tax))\n",
    "else:\n",
    "    tax = 0 \n",
    "    print('Tax rate is: ' + str(tax))       "
   ]
  },
  {
   "cell_type": "code",
   "execution_count": null,
   "metadata": {},
   "outputs": [],
   "source": [
    "price = input('How much did you pay? ')\n",
    "price = float(price)\n",
    "\n",
    "if price >= 1.00:\n",
    "    tax = .07\n",
    "else:\n",
    "    tax = 0 \n",
    "\n",
    "print('Tax rate is: ' + str(tax))       "
   ]
  },
  {
   "source": [
    "### `comparing_strings.py`"
   ],
   "cell_type": "markdown",
   "metadata": {}
  },
  {
   "cell_type": "code",
   "execution_count": null,
   "metadata": {},
   "outputs": [],
   "source": [
    "country = input('Enter the name of your home country: ')\n",
    "if country.lower() == 'canada':\n",
    "    print('So you must like hockey!')\n",
    "else:\n",
    "    print('You are not from Canada')"
   ]
  },
  {
   "source": [
    "---\n",
    "\n",
    "## Class 21 / 44 - Handling multiple conditions\n",
    "\n",
    "### You may need to check multiple conditions to determine the correct action\n",
    "\n",
    "Calculate Canadian sales tax\n",
    "\n",
    "- If the province is Alberta or Nunavut charge 5%\n",
    "- If the province is Ontario charge 13%\n",
    "\n",
    "```\n",
    "if province == 'Alberta':\n",
    "    tax = 0.05\n",
    "if province == 'Nunavut':\n",
    "    tax = 0.05\n",
    "if province == 'Ontario':\n",
    "    tax = 0.13\n",
    "```\n",
    "\n",
    "### If only one of the conditions will ever occur, you can use a single `if` statement with `elif`\n",
    "\n",
    "```\n",
    "if province == 'Alberta':\n",
    "    tax = 0.05\n",
    "elif province == 'Nunavut':\n",
    "    tax = 0.05\n",
    "elif province == 'Ontario':\n",
    "    tax = 0.13\n",
    "```\n",
    "\n",
    "### When you use `elif` instead if multiple `if` statements, you can add a default action\n",
    "\n",
    "Calculate Canadian sales tax\n",
    "\n",
    "- If the province is Alberta or Nunavut charge 5%\n",
    "- If the province is Ontario charge 13%\n",
    "- __For all other provinces charge 15%__\n",
    "\n",
    "\n",
    "```\n",
    "if province == 'Alberta':\n",
    "    tax = 0.05\n",
    "elif province == 'Nunavut':\n",
    "    tax = 0.05\n",
    "elif province == 'Ontario':\n",
    "    tax = 0.13\n",
    "else:\n",
    "    tax = 0.15\n",
    "```\n",
    "\n",
    "### If multiple conditions cause the same action, they can be combined into a single conditions\n",
    "\n",
    "Calculate Canadian sales tax\n",
    "\n",
    "- __If the province is Alberta or Nunavut charge 5%__\n",
    "- If the province is Ontario charge 13%\n",
    "- For all other provinces charge 15%\n",
    "\n",
    "```\n",
    "if province == 'Alberta' or province == 'Nunavut':\n",
    "    tax = 0.05\n",
    "elif province == 'Ontario':\n",
    "    tax = 0.13\n",
    "else:\n",
    "    tax = 0.15\n",
    "```\n",
    "\n",
    "### How `OR` statements are processed\n",
    "\n",
    "| First condition | Second condition | Condition evaluates as |\n",
    "|:---|:---|:---|\n",
    "| TRUE | TRUE | TRUE |\n",
    "| TRUE | FALSE | TRUE |\n",
    "| FALSE | TRUE | TRUE |\n",
    "| FALSE | FALSE | FALSE |\n",
    "\n",
    "### If you have a list of possible values to check, you can use the `IN` opterator\n",
    "\n",
    "Calculate Canadian sales tax\n",
    "\n",
    "- __If the province is Alberta, Nunavut or Yukon charge 5%__\n",
    "- If the province is Ontario charge 13%\n",
    "- For all other provinces charge 15%\n",
    "\n",
    "```\n",
    "if province in('Alberta','Nunavut','Yukon'):\n",
    "    tax = 0.05\n",
    "elif province == 'Ontario':\n",
    "    tax = 0.13\n",
    "else:\n",
    "    tax = 0.15\n",
    "```\n",
    "\n",
    "### If an action depends on a combination of conditions you can nest `if` statements\n",
    "\n",
    "Calculate Canadian sales tax\n",
    "__For Canadian residents__: \n",
    "\n",
    "- If the province is Alberta, Nunavut or Yukon charge 5%\n",
    "- If the province is Ontario charge 13%\n",
    "- For all other provinces charge 15%\n",
    "\n",
    "__Non Canadian residents do not pay sales tax__\n",
    "\n",
    "\n",
    "```\n",
    "if country == 'Canada':\n",
    "    if province in('Alberta','Nunavut','Yukon'):\n",
    "        tax = 0.05\n",
    "    elif province == 'Ontario':\n",
    "        tax = 0.13\n",
    "    else:\n",
    "        tax = 0.15\n",
    "else:\n",
    "    tax = 0.0\n",
    "```"
   ],
   "cell_type": "markdown",
   "metadata": {}
  },
  {
   "source": [
    "---\n",
    "\n",
    "## Class 22 / 44 - Handling multiple conditions code\n",
    "\n",
    "### `multiple_if_statements.py`"
   ],
   "cell_type": "markdown",
   "metadata": {}
  },
  {
   "cell_type": "code",
   "execution_count": null,
   "metadata": {},
   "outputs": [],
   "source": [
    "province = input('What province do you live in? ')\n",
    "tax = 0 \n",
    "\n",
    "if province == 'Alberta':\n",
    "    tax = 0.05\n",
    "if province == 'Nunavut':\n",
    "    tax = 0.05\n",
    "if province == 'Ontario':\n",
    "    tax = 0.13\n",
    "print(tax)"
   ]
  },
  {
   "cell_type": "code",
   "execution_count": null,
   "metadata": {},
   "outputs": [],
   "source": [
    "province = input('What province do you live in? ')\n",
    "tax = 0 \n",
    "\n",
    "if province == 'Alberta':\n",
    "    tax = 0.05\n",
    "elif province == 'Nunavut':\n",
    "    tax = 0.05\n",
    "elif province == 'Ontario':\n",
    "    tax = 0.13\n",
    "print(tax)"
   ]
  },
  {
   "cell_type": "code",
   "execution_count": null,
   "metadata": {},
   "outputs": [],
   "source": [
    "province = input('What province do you live in? ')\n",
    "tax = 0 \n",
    "\n",
    "if province == 'Alberta':\n",
    "    tax = 0.05\n",
    "elif province == 'Nunavut':\n",
    "    tax = 0.05\n",
    "elif province == 'Ontario':\n",
    "    tax = 0.13\n",
    "else:\n",
    "    tax = 0.15\n",
    "print(tax)"
   ]
  },
  {
   "cell_type": "code",
   "execution_count": null,
   "metadata": {},
   "outputs": [],
   "source": [
    "province = input('What province do you live in? ')\n",
    "tax = 0 \n",
    "\n",
    "if province == 'Alberta' or province == 'Nunavut':\n",
    "    tax = 0.05\n",
    "elif province == 'Ontario':\n",
    "    tax = 0.13\n",
    "else:\n",
    "    tax = 0.15\n",
    "print(tax)"
   ]
  },
  {
   "cell_type": "code",
   "execution_count": null,
   "metadata": {},
   "outputs": [],
   "source": [
    "province = input('What province do you live in? ')\n",
    "tax = 0 \n",
    "\n",
    "if province in ('Alberta', 'Nunavut','Yukon'):\n",
    "    tax = 0.05\n",
    "elif province == 'Ontario':\n",
    "    tax = 0.13\n",
    "else:\n",
    "    tax = 0.15\n",
    "print(tax)"
   ]
  },
  {
   "source": [
    "### `nested_if.py`"
   ],
   "cell_type": "markdown",
   "metadata": {}
  },
  {
   "cell_type": "code",
   "execution_count": null,
   "metadata": {},
   "outputs": [],
   "source": [
    "country = input('What country do you live in? ')\n",
    "\n",
    "tax = 0 \n",
    "if country.lower() == 'canada':\n",
    "    province = input('What province/state do you live in? ')\n",
    "    if province in ('Alberta', 'Nunavut','Yukon'):\n",
    "     tax = 0.05\n",
    "    elif province == 'Ontario':\n",
    "        tax = 0.13\n",
    "    else:\n",
    "        tax = 0.15\n",
    "else: \n",
    "    tax = 0.0\n",
    "print(tax)"
   ]
  },
  {
   "source": [
    "---\n",
    "\n",
    "## Class 23 / 44 - Complex condition checks\n",
    "\n",
    "### Sometimes you can combine conditions with `AND` instead of nesting `if` statements\n",
    "\n",
    "Requirements for honour roll\n",
    "\n",
    "- Minimum 85% grade point average\n",
    "- Lowest grade is at least 70%\n",
    "\n",
    "```\n",
    "if gpa >= .85:\n",
    "    if lowest_grade >= .70:\n",
    "        print('Well done')\n",
    "```\n",
    "\n",
    "```\n",
    "if gpa >= .85 and lowest_grade >= .70:\n",
    "    print('Well done')\n",
    "```\n",
    "\n",
    "### How `AND` statements are processed\n",
    "\n",
    "|First condition | Second condition | Condition evaluates as |\n",
    "|:---|:---|:---|\n",
    "| TRUE | TRUE | TRUE |\n",
    "| TRUE | FLASE | FLASE |\n",
    "| FLASE | TRUE | FLASE |\n",
    "| FLASE | FLASE | FLASE |\n",
    "\n",
    "### If you need to remember the results of a condition check later in your code, use Boolean variables as flags\n",
    "\n",
    "```\n",
    "if gpa >= .85 and lowest_grade >= .70:\n",
    "    honour_roll = True \n",
    "else:\n",
    "    honour_roll = False \n",
    "# Somewhere later in your code\n",
    "if honour_roll:\n",
    "    print('Well done')\n",
    "```"
   ],
   "cell_type": "markdown",
   "metadata": {}
  },
  {
   "source": [
    "---\n",
    "\n",
    "## Class 24 / 44 - Demo: Complex condition checks code\n",
    "### `using_and.py`"
   ],
   "cell_type": "markdown",
   "metadata": {}
  },
  {
   "cell_type": "code",
   "execution_count": null,
   "metadata": {},
   "outputs": [],
   "source": [
    "# A student makes honour roll if their average is >=85\n",
    "# and their lowest grade is not below 70\n",
    "gpa = float(input('What was your Grade Point Average? '))\n",
    "lowest_grade = input('What was your lowest grade? ')\n",
    "lowest_grade = float(lowest_grade)\n",
    "\n",
    "if gpa >= .85:\n",
    "    if lowest_grade >= .70:\n",
    "        print('You made the honour roll')"
   ]
  },
  {
   "cell_type": "code",
   "execution_count": null,
   "metadata": {},
   "outputs": [],
   "source": [
    "# A student makes honour roll if their average is >=85\n",
    "# and their lowest grade is not below 70\n",
    "gpa = float(input('What was your Grade Point Average? '))\n",
    "lowest_grade = float(input('What was your lowest grade? '))\n",
    "\n",
    "\n",
    "if gpa >= .85 and lowest_grade >= .70:\n",
    "    print('You made the honour roll')"
   ]
  },
  {
   "source": [
    "### `boolean_variables.py`"
   ],
   "cell_type": "markdown",
   "metadata": {}
  },
  {
   "cell_type": "code",
   "execution_count": null,
   "metadata": {},
   "outputs": [],
   "source": [
    "# I check to see if the requirements for honour roll are met\n",
    "gpa = float(input('What was your Grade Point Average? '))\n",
    "lowest_grade = float(input('What was your lowest grade? '))\n",
    "\n",
    "if gpa >= .85 and lowest_grade >= .70:\n",
    "    honour_roll = True \n",
    "else:\n",
    "    honour_roll = False \n",
    "# Somewhere later in your code if you need to check if students is \n",
    "# on honour roll, all I need to do is check the boolean variable\n",
    "# I set earlier in my code\n",
    "if honour_roll:\n",
    "    print('You made honour roll')"
   ]
  },
  {
   "source": [
    "---\n",
    "\n",
    "## Class 25 / 44 - Collections\n",
    "\n",
    "- list `[]`\n",
    "- array\n",
    "\n",
    "### Lists are collections of items"
   ],
   "cell_type": "markdown",
   "metadata": {}
  },
  {
   "cell_type": "code",
   "execution_count": null,
   "metadata": {},
   "outputs": [],
   "source": [
    "names = ['Clristopher','Susan']\n",
    "scores = []\n",
    "scores.append(98) # Add new item to the end\n",
    "scores.append(99)\n",
    "print(names)\n",
    "print(scores)\n",
    "print(scores[1]) # Collections are zero-indexed"
   ]
  },
  {
   "source": [
    "### Arrays are also collections of items"
   ],
   "cell_type": "markdown",
   "metadata": {}
  },
  {
   "cell_type": "code",
   "execution_count": null,
   "metadata": {},
   "outputs": [],
   "source": [
    "from array import array\n",
    "scores = array('d')\n",
    "scores.append(97)\n",
    "scores.append(98)\n",
    "print(scores)\n",
    "print(scores[1])"
   ]
  },
  {
   "source": [
    "### What's  the difference?\n",
    "\n",
    "- Arrays\n",
    "\n",
    "    - Numerical data types\n",
    "    - Must all be the same types\n",
    "\n",
    "- Lists\n",
    "\n",
    "    - Store anything\n",
    "    - Store any type\n",
    "\n",
    "### Common operations\n",
    "\n",
    "- `len()`\n",
    "- `list.insert()`\n",
    "- `list.sort()`"
   ],
   "cell_type": "markdown",
   "metadata": {}
  },
  {
   "cell_type": "code",
   "execution_count": null,
   "metadata": {},
   "outputs": [],
   "source": [
    "names = ['Susan','Christopher']\n",
    "print(len(names)) # Get the number of items\n",
    "names.insert(0,'Bill') # Insert before index\n",
    "print(names)\n",
    "names.sort()\n",
    "print(names)"
   ]
  },
  {
   "source": [
    "### Retrieving ranges"
   ],
   "cell_type": "markdown",
   "metadata": {}
  },
  {
   "cell_type": "code",
   "execution_count": null,
   "metadata": {},
   "outputs": [],
   "source": [
    "names = ['Susan','Christopher','Bill','Justin']\n",
    "presenters = names[1:3]\n",
    "# Start and end index\n",
    "\n",
    "print(names)\n",
    "print(presenters)"
   ]
  },
  {
   "source": [
    "### Dictionaries `{}`\n",
    "Key value pair.\n",
    "key: first\n",
    "value: Christopher\n",
    "key: last\n",
    "value: Harrison"
   ],
   "cell_type": "markdown",
   "metadata": {}
  },
  {
   "cell_type": "code",
   "execution_count": null,
   "metadata": {},
   "outputs": [],
   "source": [
    "person = {'first':'Christopher'}\n",
    "person['last'] = 'Harrison'\n",
    "print(person)\n",
    "print(person['first'])"
   ]
  },
  {
   "source": [
    "###　What's the difference?\n",
    "\n",
    "- Dictionaries\n",
    "\n",
    "    - Key/Value pairs\n",
    "    - Storage order not guaranteed\n",
    "\n",
    "- Lists\n",
    "\n",
    "    - Zero-based index\n",
    "    - Storage order guaranteed"
   ],
   "cell_type": "markdown",
   "metadata": {}
  },
  {
   "source": [
    "---\n",
    "\n",
    "## Class 26 / 44 - Demo: Collections code"
   ],
   "cell_type": "markdown",
   "metadata": {}
  },
  {
   "cell_type": "code",
   "execution_count": null,
   "metadata": {},
   "outputs": [],
   "source": [
    "christopher = {}\n",
    "christopher['first'] = 'Christopher'\n",
    "christopher['last'] = 'Harrison'\n",
    "\n",
    "susan = {}\n",
    "susan['first'] = 'Susan'\n",
    "susan['last'] = 'Ibach'\n",
    "\n",
    "people = []\n",
    "people.append(christopher)\n",
    "people.append(susan)\n",
    "people.append({\n",
    "    'first':'Bill','last':'Gates'\n",
    "})\n",
    "print(people)"
   ]
  },
  {
   "source": [
    "---\n",
    "\n",
    "## Class 27 / 44 - Loops\n",
    "\n",
    "- `for`\n",
    "- `while`\n",
    "\n",
    "### Loop through a collection"
   ],
   "cell_type": "markdown",
   "metadata": {}
  },
  {
   "cell_type": "code",
   "execution_count": null,
   "metadata": {},
   "outputs": [],
   "source": [
    "for name in ['Christopher', 'Susan']:\n",
    "    print(name)"
   ]
  },
  {
   "source": [
    "### Looping a number of times"
   ],
   "cell_type": "markdown",
   "metadata": {}
  },
  {
   "cell_type": "code",
   "execution_count": null,
   "metadata": {},
   "outputs": [],
   "source": [
    "for index in range(0, 2):\n",
    "    print(index)"
   ]
  },
  {
   "source": [
    "### Looping with a condition"
   ],
   "cell_type": "markdown",
   "metadata": {}
  },
  {
   "cell_type": "code",
   "execution_count": null,
   "metadata": {},
   "outputs": [],
   "source": [
    "names = ['Christopher','Susan']\n",
    "index = 0\n",
    "while index < len(names):\n",
    "    print(names[index])\n",
    "    # Change the condition!!\n",
    "    index = index + 1"
   ]
  },
  {
   "source": [
    "---\n",
    "\n",
    "## Class 28 / 44 - Demo: Loops code"
   ],
   "cell_type": "markdown",
   "metadata": {}
  },
  {
   "cell_type": "code",
   "execution_count": null,
   "metadata": {},
   "outputs": [],
   "source": [
    "people = ['Christopher','Susan']\n",
    "\n",
    "print('This is for loop')\n",
    "print()\n",
    "for name in people:\n",
    "    print(name)\n",
    "\n",
    "print()\n",
    "\n",
    "print('This is while loop')\n",
    "print()\n",
    "index = 0\n",
    "while index < len(people):\n",
    "    print(people[index])\n",
    "    index = index + 1\n",
    "\n",
    "print()\n"
   ]
  },
  {
   "source": [
    "---\n",
    "\n",
    "## Class 29 / 44 - Functions\n",
    "\n",
    "### Sometimes we copy and paste our code\n",
    "\n",
    "This part code is repeat for printing timestamps\n",
    "\n",
    "```\n",
    "print('task completed')\n",
    "print(datetime.datetime.now())\n",
    "print()\n",
    "```"
   ],
   "cell_type": "markdown",
   "metadata": {}
  },
  {
   "cell_type": "code",
   "execution_count": null,
   "metadata": {},
   "outputs": [],
   "source": [
    "import datetime\n",
    "# print timestamps to see how long sections of code \n",
    "# take to run\n",
    "first_name = 'Susan'\n",
    "\n",
    "print('task completed')\n",
    "print(datetime.datetime.now())\n",
    "print()\n",
    "\n",
    "for x in range(0, 10):\n",
    "    print(x)\n",
    "    #print('Jeffrey is awesome!')\n",
    "\n",
    "print('task completed')\n",
    "print(datetime.datetime.now())\n",
    "print()\n"
   ]
  },
  {
   "source": [
    "### Use functions instead of repeating code\n",
    "\n",
    "make a function `print_time()` with `def`, then you can repeat the function.\n"
   ],
   "cell_type": "markdown",
   "metadata": {}
  },
  {
   "cell_type": "code",
   "execution_count": null,
   "metadata": {},
   "outputs": [],
   "source": [
    "import datetime\n",
    "# print the current time\n",
    "def print_time():\n",
    "    print('task completed')\n",
    "    print(datetime.datetime.now())\n",
    "    print()\n",
    "\n",
    "first_name = 'Susan'\n",
    "print_time()\n",
    "\n",
    "for x in range(0,10):\n",
    "    print(x)\n",
    "print_time()\n"
   ]
  },
  {
   "source": [
    "### By moving the code to a function, you reduce rework and the chance of introducing bugs when you change the code you had copied"
   ],
   "cell_type": "markdown",
   "metadata": {}
  },
  {
   "cell_type": "code",
   "execution_count": null,
   "metadata": {},
   "outputs": [],
   "source": [
    "# Import the datetime class from datetime library\n",
    "from datetime import datetime\n",
    "# print the current time\n",
    "def print_time():\n",
    "    print('Task completed')\n",
    "    # Now I don't need the extra datetime prefix\n",
    "    print(datetime.now())\n",
    "    print()"
   ]
  },
  {
   "source": [
    "\n",
    "### What if I want a different message displayed?"
   ],
   "cell_type": "markdown",
   "metadata": {}
  },
  {
   "cell_type": "code",
   "execution_count": null,
   "metadata": {},
   "outputs": [],
   "source": [
    "from datetime import datetime\n",
    "# print timestampes to see how long sections of code\n",
    "# take to run\n",
    "first_name = 'Faye'\n",
    "print(first_name)\n",
    "print('first name assigned')\n",
    "print(datetime.now())\n",
    "print()\n",
    "\n",
    "for x in range(0,10):\n",
    "    print(x)\n",
    "print('loop completed')\n",
    "print(datetime.now())\n",
    "print()"
   ]
  },
  {
   "source": [
    "### Pass the task name as a parameter"
   ],
   "cell_type": "markdown",
   "metadata": {}
  },
  {
   "cell_type": "code",
   "execution_count": null,
   "metadata": {},
   "outputs": [],
   "source": [
    "from datetime import datetime\n",
    "# print the current time and task name\n",
    "def print_time(task_name):\n",
    "    print(task_name)\n",
    "    print(datetime.now())\n",
    "    print()\n",
    "\n",
    "first_name = 'Faye'\n",
    "print(first_name)\n",
    "print_time('first name assigned')\n",
    "\n",
    "\n",
    "for x in range(0,10):\n",
    "    print(x)\n",
    "print_time('loop completed')\n"
   ]
  },
  {
   "source": [
    "### Here's another example where the code looks different but we are doing the same logic over and over"
   ],
   "cell_type": "markdown",
   "metadata": {}
  },
  {
   "cell_type": "code",
   "execution_count": null,
   "metadata": {},
   "outputs": [],
   "source": [
    "first_name = input('Enter your first name: ')\n",
    "first_name_initial = first_name[0:1]\n",
    "last_name = input('Enter your last name: ')\n",
    "last_name_initial = last_name[0:1]\n",
    "\n",
    "print('Your initials are: ' + first_name_initial + last_name_initial)"
   ]
  },
  {
   "source": [
    "### I can still use a function, but this time my function returns a value"
   ],
   "cell_type": "markdown",
   "metadata": {}
  },
  {
   "cell_type": "code",
   "execution_count": null,
   "metadata": {},
   "outputs": [],
   "source": [
    "def get_initial(name):\n",
    "    name_initial = name[0:1]\n",
    "    return name_initial\n",
    "\n",
    "first_name = input('Enter your first name: ')\n",
    "first_name_initial = get_initial(first_name)\n",
    "last_name = input('Enter your last name: ')\n",
    "last_name_initial = get_initial(last_name)\n",
    "print('Your initials are: ' + first_name_initial + last_name_initial)"
   ]
  },
  {
   "source": [
    "### If you need to change something, you only have to change it in one place!"
   ],
   "cell_type": "markdown",
   "metadata": {}
  },
  {
   "cell_type": "code",
   "execution_count": null,
   "metadata": {},
   "outputs": [],
   "source": [
    "def get_initial(name):\n",
    "    name_initial = name[0:1].upper()\n",
    "    return name_initial\n",
    "\n",
    "first_name = input('Enter your first name: ')\n",
    "first_name_initial = get_initial(first_name)\n",
    "last_name = input('Enter your last name: ')\n",
    "last_name_initial = get_initial(last_name)\n",
    "print('Your initials are: ' + first_name_initial + last_name_initial)"
   ]
  },
  {
   "source": [
    "### Functions that return values allow clever code, but you might trade readability for less code"
   ],
   "cell_type": "markdown",
   "metadata": {}
  },
  {
   "cell_type": "code",
   "execution_count": null,
   "metadata": {},
   "outputs": [],
   "source": [
    "def get_initial(name):\n",
    "    name_initial = name[0:1].upper()\n",
    "    return name_initial\n",
    "\n",
    "first_name = input('Enter your first name: ')\n",
    "last_name = input('Enter your last name: ')\n",
    "print('Your initials are: ' + get_initial(first_name) + get_initial(last_name))"
   ]
  },
  {
   "source": [
    "- Functions make your code more readable and easier to maintain\n",
    "- Always add comments to explain the purpose of your Functions\n",
    "- Functions must be declared before the line of code where the function is called"
   ],
   "cell_type": "markdown",
   "metadata": {}
  },
  {
   "source": [
    "---\n",
    "\n",
    "## Class 30 / 44 - Demo: Functions code\n",
    "\n",
    "### `print_time_repeated_code.py`"
   ],
   "cell_type": "markdown",
   "metadata": {}
  },
  {
   "cell_type": "code",
   "execution_count": null,
   "metadata": {},
   "outputs": [],
   "source": [
    "import datetime\n",
    "\n",
    "# print timestamps to see how long sections of code \n",
    "# take to run\n",
    "\n",
    "first_name = 'Susan'\n",
    "print('task completed')\n",
    "print(datetime.datetime.now())\n",
    "print()\n",
    "\n",
    "for x in range(0, 10):\n",
    "    print(x)\n",
    "print('task completed')\n",
    "print(datetime.datetime.now())\n",
    "print()\n"
   ]
  },
  {
   "cell_type": "code",
   "execution_count": null,
   "metadata": {},
   "outputs": [],
   "source": [
    "import datetime\n",
    "# Function to print current date and time\n",
    "def print_time():\n",
    "    print('task completed')\n",
    "    print(datetime.datetime.now())\n",
    "    print()\n",
    "\n",
    "first_name = 'Susan'\n",
    "print_time()\n",
    "\n",
    "for x in range(0,10):\n",
    "    print(x)\n",
    "print_time()"
   ]
  },
  {
   "cell_type": "code",
   "execution_count": null,
   "metadata": {},
   "outputs": [],
   "source": [
    "from datetime import datetime\n",
    "# Function to print current date and time\n",
    "def print_time():\n",
    "    print('task completed')\n",
    "    print(datetime.now())\n",
    "    print()\n",
    "\n",
    "first_name = 'Susan'\n",
    "print_time()\n",
    "\n",
    "for x in range(0,10):\n",
    "    print(x)\n",
    "print_time()"
   ]
  },
  {
   "cell_type": "code",
   "execution_count": null,
   "metadata": {},
   "outputs": [],
   "source": [
    "from datetime import datetime\n",
    "# Function to print current date and time\n",
    "def print_time(task_name):\n",
    "    print(task_name)\n",
    "    print(datetime.now())\n",
    "    print()\n",
    "\n",
    "first_name = 'Susan'\n",
    "print_time('printed first name')\n",
    "\n",
    "for x in range(0,10):\n",
    "    print(x)\n",
    "print_time('completed for loop')"
   ]
  },
  {
   "source": [
    "### `get_initials.py`"
   ],
   "cell_type": "markdown",
   "metadata": {}
  },
  {
   "cell_type": "code",
   "execution_count": null,
   "metadata": {},
   "outputs": [],
   "source": [
    "first_name = input('Enter your first name: ')\n",
    "first_name_initial = first_name[0:1]\n",
    "middle_name = input('Enter your middle name: ')\n",
    "middle_name_initial = middle_name[0:1]\n",
    "last_name = input('Enter your last name: ')\n",
    "last_name_initial = last_name[0:1]\n",
    "\n",
    "print('Your initials are: ' + first_name_initial + middle_name_initial + last_name_initial)"
   ]
  },
  {
   "cell_type": "code",
   "execution_count": null,
   "metadata": {},
   "outputs": [],
   "source": [
    "# This function will return the first initial of a name\n",
    "def get_initial(name):\n",
    "    name_initial = name[0:1]\n",
    "    return name_initial\n",
    "\n",
    "first_name = input('Enter your first name: ')\n",
    "first_name_initial = get_initial(first_name)\n",
    "middle_name = input('Enter your middle name: ')\n",
    "middle_name_initial = get_initial(middle_name)\n",
    "last_name = input('Enter your last name: ')\n",
    "last_name_initial = get_initial(last_name)\n",
    "print('Your initials are: ' + first_name_initial + middle_name_initial + last_name_initial)"
   ]
  },
  {
   "source": [
    "### `getting_clever_with_functions_harder_to_read.py`"
   ],
   "cell_type": "markdown",
   "metadata": {}
  },
  {
   "cell_type": "code",
   "execution_count": null,
   "metadata": {},
   "outputs": [],
   "source": [
    "# This function will take a name and return the \n",
    "# first letter of the name\n",
    "def get_initial(name):\n",
    "    name_initial = name[0:1].upper()\n",
    "    return name_initial\n",
    "\n",
    "# Ask for someone's name and return the initials\n",
    "first_name = input('Enter your first name: ')\n",
    "middle_name = input('Enter your middle name: ')\n",
    "last_name = input('Enter your last name: ')\n",
    "print('Your initials are: ' + get_initial(first_name) + get_initial(middle_name) + get_initial(last_name))"
   ]
  },
  {
   "source": [
    "---\n",
    "\n",
    "## Class 31 / 44 - Function parameters\n",
    "\n",
    "### We already learned to create functions which accept a parameter and return values"
   ],
   "cell_type": "markdown",
   "metadata": {}
  },
  {
   "cell_type": "code",
   "execution_count": null,
   "metadata": {},
   "outputs": [],
   "source": [
    "def get_initial(name):\n",
    "    name_initial = name[0:1].upper()\n",
    "    return name_initial\n",
    "\n",
    "first_name = input('Enter your first name: ')\n",
    "first_name_initial = get_initial(first_name)\n",
    "\n",
    "print('Your initials are: ' + first_name_initial)"
   ]
  },
  {
   "source": [
    "### Functions can accept multiple parameters\n",
    "\n",
    "Pass the parameters in the same order they are listed in the function declaration"
   ],
   "cell_type": "markdown",
   "metadata": {}
  },
  {
   "cell_type": "code",
   "execution_count": null,
   "metadata": {},
   "outputs": [],
   "source": [
    "def get_initial(name, force_uppercase):\n",
    "    if force_uppercase:\n",
    "        initial = name[0:1].upper()\n",
    "    else:\n",
    "        initial = name[0:1]\n",
    "    return initial\n",
    "\n",
    "first_name = input('Enter your first name: ')\n",
    "first_name_initial = get_initial(first_name, False)\n",
    "print('Your initial is : ' + first_name_initial)"
   ]
  },
  {
   "source": [
    "### You can specify a default value for a parameter"
   ],
   "cell_type": "markdown",
   "metadata": {}
  },
  {
   "cell_type": "code",
   "execution_count": null,
   "metadata": {},
   "outputs": [],
   "source": [
    "def get_initial(name, force_uppercase=True):\n",
    "    if force_uppercase:\n",
    "        initial = name[0:1].upper()\n",
    "    else:\n",
    "        initial = name[0:1]\n",
    "    return initial\n",
    "\n",
    "first_name = input('Enter your first name: ')\n",
    "first_name_initial = get_initial(first_name)\n",
    "print('Your initial is : ' + first_name_initial)"
   ]
  },
  {
   "source": [
    "### You can also assign the values to parameters by name when you call the function\n",
    "\n",
    "When you use named parameters, you can specify parameters in any order."
   ],
   "cell_type": "markdown",
   "metadata": {}
  },
  {
   "cell_type": "code",
   "execution_count": null,
   "metadata": {},
   "outputs": [],
   "source": [
    "def get_initial(name, force_uppercase):\n",
    "    if force_uppercase:\n",
    "        initial = name[0:1].upper()\n",
    "    else:\n",
    "        initial = name[0:1]\n",
    "    return initial\n",
    "\n",
    "first_name = input('Enter your first name: ')\n",
    "first_name_initial = get_initial(force_uppercase=True, name=first_name)\n",
    "print('Your initial is : ' + first_name_initial)"
   ]
  },
  {
   "source": [
    " ### Using the named notation when calling functions makes your code more readable"
   ],
   "cell_type": "markdown",
   "metadata": {}
  },
  {
   "cell_type": "code",
   "execution_count": null,
   "metadata": {},
   "outputs": [],
   "source": [
    "def error_logger(error_code, error_severity, log_to_db, error_message, source_module):\n",
    "    print('oh no error: ' + error_message)\n",
    "    # Imagine code here that logs our error to a database or file \n",
    "\n",
    "first_number = 10\n",
    "second_number = 5\n",
    "error_logger(45, 1 , True, 'Second number greater than first', 'my_math_method')"
   ]
  },
  {
   "cell_type": "code",
   "execution_count": null,
   "metadata": {},
   "outputs": [],
   "source": [
    "def error_logger(error_code, error_severity, log_to_db, error_message, source_module):\n",
    "    print('oh no error: ' + error_message)\n",
    "    # Imagine code here that logs our error to a database or file \n",
    "\n",
    "first_number = 10\n",
    "second_number = 5\n",
    "error_logger(error_code=45, error_severity=1 , log_to_db=True, error_message='Second number greater than first', source_module='my_math_method')"
   ]
  },
  {
   "source": [
    "---\n",
    "\n",
    "## Class 32 / 44 - Demo: Function parameters code\n",
    "\n",
    "### `get_initials_funciton.py`"
   ],
   "cell_type": "markdown",
   "metadata": {}
  },
  {
   "cell_type": "code",
   "execution_count": null,
   "metadata": {},
   "outputs": [],
   "source": [
    "# This function will take a name and return the \n",
    "# first letter of the name\n",
    "def get_initial(name):\n",
    "    name_initial = name[0:1].upper()\n",
    "    return name_initial\n",
    "\n",
    "# Ask for someone's name and return the initials\n",
    "first_name = input('Enter your first name: ')\n",
    "first_name_initial = get_initial(first_name)\n",
    "\n",
    "print('Your initials are: ' + first_name_initial)"
   ]
  },
  {
   "cell_type": "code",
   "execution_count": null,
   "metadata": {},
   "outputs": [],
   "source": [
    "# This function will take a name and return the \n",
    "# first letter of the name\n",
    "def get_initial(name, force_uppercase):\n",
    "    if force_uppercase:\n",
    "        initial = name[0:1].upper()\n",
    "    else:\n",
    "        initial = name[0:1]\n",
    "    return initial\n",
    "\n",
    "# Ask for someone's name and return the initials\n",
    "first_name = input('Enter your first name: ')\n",
    "first_name_initial = get_initial(first_name, False)\n",
    "\n",
    "print('Your initial is : ' + first_name_initial)"
   ]
  },
  {
   "cell_type": "code",
   "execution_count": null,
   "metadata": {},
   "outputs": [],
   "source": [
    "# This function will take a name and return the \n",
    "# first letter of the name\n",
    "def get_initial(name, force_uppercase=True):\n",
    "    if force_uppercase:\n",
    "        initial = name[0:1].upper()\n",
    "    else:\n",
    "        initial = name[0:1]\n",
    "    return initial\n",
    "\n",
    "# Ask for someone's name and return the initials\n",
    "first_name = input('Enter your first name: ')\n",
    "first_name_initial = get_initial(first_name)\n",
    "\n",
    "print('Your initial is : ' + first_name_initial)"
   ]
  },
  {
   "cell_type": "code",
   "execution_count": null,
   "metadata": {},
   "outputs": [],
   "source": [
    "# This function will take a name and return the \n",
    "# first letter of the name\n",
    "def get_initial(name, force_uppercase=True):\n",
    "    if force_uppercase:\n",
    "        initial = name[0:1].upper()\n",
    "    else:\n",
    "        initial = name[0:1]\n",
    "    return initial\n",
    "\n",
    "# Ask for someone's name and return the initials\n",
    "first_name = input('Enter your first name: ')\n",
    "first_name_initial = get_initial(force_uppercase=False, name=first_name)\n",
    "print('Your initial is : ' + first_name_initial)"
   ]
  },
  {
   "source": [
    "---\n",
    "\n",
    "## Class 33 / 44 - Modules and packages\n",
    "\n",
    "### Modules\n",
    "\n",
    "- What's a Module?\n",
    "\n",
    "    A Python file with functions, classes and other components\n",
    "\n",
    "- Why use modules?\n",
    "\n",
    "    Break code down into reusable structures\n",
    "\n",
    "### Creating a modules\n",
    "\n",
    "Create a file named `helpers.py` and enter the content as below.\n"
   ],
   "cell_type": "markdown",
   "metadata": {}
  },
  {
   "cell_type": "code",
   "execution_count": null,
   "metadata": {},
   "outputs": [],
   "source": [
    "# helpers.py\n",
    "def display(message, is_warning=False):\n",
    "    if is_warning:\n",
    "        print('Warning!!')\n",
    "    print(message)"
   ]
  },
  {
   "source": [
    "### Importing a module"
   ],
   "cell_type": "markdown",
   "metadata": {}
  },
  {
   "cell_type": "code",
   "execution_count": null,
   "metadata": {},
   "outputs": [],
   "source": [
    "# Import module as namespace\n",
    "import helpers\n",
    "helpers.display('Not a Warning 1')\n",
    "\n",
    "# import all into current namespace\n",
    "from helpers import *\n",
    "display('Not a warning 2')\n",
    "\n",
    "# import specific items into current namespace\n",
    "from helpers import display\n",
    "display('Not a warning 3')"
   ]
  },
  {
   "source": [
    "### Packages\n",
    "\n",
    "- What are packages?\n",
    "\n",
    "  Published collections of modules\n",
    "\n",
    "- How do I find packages?\n",
    "\n",
    "  Python Package Index\n",
    "\n",
    "  Internet search\n",
    "\n",
    "### Insatlling packages\n",
    "\n",
    "```\n",
    "# Install an individual package\n",
    "pip install colorama\n",
    "\n",
    "# Install from a list of packages \n",
    "pip install -r requirements.txt\n",
    "\n",
    "# requirements.txt\n",
    "colorama \n",
    "```"
   ],
   "cell_type": "markdown",
   "metadata": {}
  },
  {
   "source": [
    "---\n",
    "\n",
    "## Class 34 / 44 - Virtual environments\n",
    "\n",
    "### Virtual environments\n",
    "\n",
    "- By default, packages are installed globally\n",
    "\n",
    "  Version management becomes a challenge\n",
    "\n",
    "- Virtual environments can be used to contain and manage package collections\n",
    "\n",
    "  Really just a folder behind the scenes with all your packages\n",
    "\n",
    "\n",
    "### Create a virtual environments\n",
    "\n",
    "```\n",
    "# Install virtual environment\n",
    "pip install virtualenv\n",
    "\n",
    "# create a virtual environment\n",
    "# Windows systems\n",
    "python -m venv <folder_name>\n",
    "\n",
    "# OSX/Linux (bash)\n",
    "virtualenv <folder_name>\n",
    "```\n",
    "\n",
    "### Using virtual environments\n",
    "\n",
    "```\n",
    "# Windows systems\n",
    "# cmd.exe\n",
    "<folder_name>\\Scripts\\Activate.bat\n",
    "# Powershell\n",
    "<folder_name>\\Scripts\\Activate.ps1\n",
    "# bash shell\n",
    "../<folder_name>/Scripts/activate\n",
    "\n",
    "# OSX/Linux (bash)\n",
    "<folder_name>/bin/activate\n",
    "```\n",
    "\n",
    "### Insatlling packages in a virtual environment\n",
    "\n",
    "```\n",
    "# Install an individual package\n",
    "pip install colorama\n",
    "\n",
    "# Install from a list of packages \n",
    "pip install -r requirements.txt\n",
    "\n",
    "# requirements.txt\n",
    "colorama \n",
    "```\n"
   ],
   "cell_type": "markdown",
   "metadata": {}
  },
  {
   "source": [
    "---\n",
    "\n",
    "## Class 35 / 44 - Package\n",
    "\n",
    "Make the module `helpers.py` fir sample using.\n"
   ],
   "cell_type": "markdown",
   "metadata": {}
  },
  {
   "cell_type": "code",
   "execution_count": null,
   "metadata": {},
   "outputs": [],
   "source": [
    "# helpers.py\n",
    "def display(messag, is_warning=False):\n",
    "    if is_warning:\n",
    "        print('This is a warning')\n",
    "    print(message)"
   ]
  },
  {
   "cell_type": "code",
   "execution_count": null,
   "metadata": {},
   "outputs": [],
   "source": []
  },
  {
   "cell_type": "code",
   "execution_count": null,
   "metadata": {},
   "outputs": [],
   "source": [
    "# use helpers.py module\n",
    "import helpers\n",
    "helpers.display('Sample message 1')"
   ]
  },
  {
   "cell_type": "code",
   "execution_count": null,
   "metadata": {},
   "outputs": [],
   "source": [
    "# use helpers.py module\n",
    "import helpers\n",
    "helpers.display('Sample message 2', True)"
   ]
  },
  {
   "cell_type": "code",
   "execution_count": null,
   "metadata": {},
   "outputs": [],
   "source": [
    "from helpers import display\n",
    "display('Sample message 3')"
   ]
  },
  {
   "source": [
    "-  Create virtrual environment in powershell\n",
    "\n",
    "```powershell\n",
    "> python -m venv venv\n",
    "```\n",
    "\n",
    "The second venv is a folder name.\n",
    "\n",
    "- Activate the virtual environment `venv` on the Windows system as the below command.\n",
    "\n",
    "```\n",
    "> .\\venv\\Scripts\\Activate.ps1\n",
    "```\n",
    "\n",
    "- Install package `colorama` in the `venv` virtual environment as below command.\n",
    "\n",
    "```\n",
    "> python.exe -m pip install colorama\n",
    "```\n",
    "\n",
    "or \n",
    "\n",
    "make a file `requirements.txt` and add the content:\n",
    "\n",
    "```\n",
    "# in requirements.txt\n",
    "colorama\n",
    "```\n",
    "\n",
    "Then execute the command in powershell to install package.\n",
    "\n",
    "```\n",
    "> pip install -r requirements.txt\n",
    "```\n",
    "\n",
    "\n",
    "- Example for using `colorama` package.\n",
    "\n",
    "  Modify the `helpers.py` as `helpers_with_colorama_package.py`.\n",
    "\n",
    "```\n",
    "# helpers_with_colorama_package.py\n",
    "from pip._vendor.colorama import init, Fore\n",
    "\n",
    "def display(message, is_warning=False):\n",
    "    if is_warning:\n",
    "        print(Fore.RED + message)\n",
    "    else:\n",
    "        print(Fore.GREEN + message)\n",
    "```"
   ],
   "cell_type": "markdown",
   "metadata": {}
  },
  {
   "cell_type": "code",
   "execution_count": null,
   "metadata": {},
   "outputs": [],
   "source": [
    "from helpers_with_colorama_package import display\n",
    "\n",
    "display('Sample message 4', True)\n",
    "display('Sample message 5', False)"
   ]
  },
  {
   "source": [
    "---\n",
    "\n",
    "## Class 36 / 44 - Calling an API\n",
    "\n",
    "### What is web service?\n",
    "\n",
    "Whena developer wants to share the functionality of a function but not the actual code in the program, they can place the function on a web server.\n",
    "\n",
    "A programmer with the address of that function on the web server and the required permissions can call the function.\n",
    "\n",
    "![](./picture/web_service.png)\n",
    "\n",
    "\n",
    "### Microsoft Cognitive Services\n",
    "\n",
    "- [Computer Vision API -v2.0](https://westus.dev.cognitive.microsoft.com/docs/services/5adf991815e1060e6355ad44/operations/56f91f2e778daf14a499e1fa)\n",
    "\n",
    "http://contoso/analyze\n",
    "\n",
    "\n",
    "### What is an API\n",
    "\n",
    "You can't call a function unless you know the function name and the required parameters.\n",
    "\n",
    "When you create a web service you create an Application Programming Interface (API)\n",
    "\n",
    "The API defines the function names and parameters so others know how to call your function. \n",
    "\n",
    "```\n",
    "analyze(visualfeatures, details, language)\n",
    "```\n",
    "\n",
    "### Keys allow me to track which users have permission to use my web service\n",
    "\n",
    "A developer signs up on web site, or buys a license for my software and is provided a unique Keys.\n",
    "\n",
    "When the developer calls my web service they provide their unique key and I am able to verify the key has been approved for calls to my web service.\n",
    "\n",
    "![](./picture/allow_key.png)\n",
    "\n",
    "\n",
    "### There is a standard for sending messages across the web\n",
    "\n",
    "Hypertext Transfer Protocol (HTTP) is a standard protocol for sending messages across the web\n",
    "\n",
    "- GET\n",
    "  - Pass values in query string only\n",
    "    - Special characters must be \"escaped\"\n",
    "    - Limited amount of data\n",
    "\n",
    "- POST\n",
    "  - Pass values in query string and body\n",
    "    - No need to escape special characters if passed in body\n",
    "    - Can pass large amount of data, inculuding images, in body\n",
    "\n",
    "![](./picture/get_post.png)\n",
    "\n",
    "\n",
    "### The requests library simplifies HTTP calls from Python code \n",
    "\n",
    "```\n",
    "requests.post(address, http_headers, funciton_parameters, message_body)\n",
    "```\n",
    "\n",
    "![](./picture/requests_post.png)\n",
    "\n",
    "### Learning how to call APIs unlocks functionality from developers and software companies around the world\n",
    "\n",
    "API parameters and keys requirements will vary\n",
    "\n",
    "Refer to product and API documentation to learn how to call a specific API\n"
   ],
   "cell_type": "markdown",
   "metadata": {}
  },
  {
   "source": [
    "---\n",
    "\n",
    "## Class 37 / 44 - Calling an API code\n",
    "\n",
    "[Quickstart: Create a Cognitive Services account in the Azure portal](https://docs.microsoft.com/zh-tw/azure/cognitive-services/cognitive-services-apis-create-account?tabs=multiservice%2Cwindows#single-service-subscription)\n"
   ],
   "cell_type": "markdown",
   "metadata": {}
  },
  {
   "source": [
    "---\n",
    "\n",
    "## Class 38 / 44 - JSON\n",
    "\n",
    "### Many web services return data as JSON\n",
    "\n",
    "JSON is a standard data format that can be intimidating at first glance\n",
    "\n",
    "```\n",
    "{\"color\":{\"dominantColorForeground\":\"White\", \"dominantColorBackground\":\"White\", \"dominantColors\":[\"White\"], \"accentColor\":\"595144\", \"isBwImg\":false}, \"description\":{\"tags\":[\"bear\", \"polar\", \"animal\", \"mammal\", \"outdoor\", \"water\", \"white\", \"large\", \"walking\", \"snow\",\"standing\"],\"captions\":[{\"text\":\"a large white polar bear walking in the water\", \"confidence\":0.7419737378283093}]},\"requestId\":\"33290a37-ad67-42af-b647-c5a236ecd202\", \"metadata\":{\"width\":220, \"height\":221, \"format\":\"Jpeg\"}}\n",
    "```\n",
    "\n",
    "\n",
    "### Using a linting tool to format JSON makes it easier to read\n",
    "[jsonlint website](https://jsonlint.com/)\n",
    "\n",
    "\n",
    "```\n",
    "{\n",
    "\t\"color\": {\n",
    "\t\t\"dominantColorForeground\": \"White\",\n",
    "\t\t\"dominantColorBackground\": \"White\",\n",
    "\t\t\"dominantColors\": [\"White\"],\n",
    "\t\t\"accentColor\": \"595144\",\n",
    "\t\t\"isBwImg\": false\n",
    "\t},\n",
    "\t\"description\": {\n",
    "\t\t\"tags\": [\"bear\", \"polar\", \"animal\", \"mammal\", \"outdoor\", \"water\", \"white\", \"large\", \"walking\", \"snow\", \"standing\"],\n",
    "\t\t\"captions\": [{\n",
    "\t\t\t\"text\": \"a large white polar bear walking in the water\",\n",
    "\t\t\t\"confidence\": 0.7419737378283093\n",
    "\t\t}]\n",
    "\t},\n",
    "\t\"requestId\": \"33290a37-ad67-42af-b647-c5a236ecd202\",\n",
    "\t\"metadata\": {\n",
    "\t\t\"width\": 220,\n",
    "\t\t\"height\": 221,\n",
    "\t\t\"format\": \"Jpeg\"\n",
    "\t}\n",
    "}\n",
    "```\n",
    "\n",
    "### JSON contains key pairs\n",
    "\n",
    "- \"key\":\"value\"\n",
    "\n",
    "```\n",
    "\"requestId\": \"33290a37-ad67-42af-b647-c5a236ecd202\",\n",
    "```\n",
    "\n",
    "- {\"key\":{\"subkey0\":\"subvalue0\",\"subkey1\":\"subvalue1\",...}}\n",
    "\n",
    "```\n",
    "\"color\": {\n",
    "\t\"dominantColorForeground\": \"White\",\n",
    "\t\"dominantColorBackground\": \"White\",\n",
    "\t\"dominantColors\": [\"White\"],\n",
    "\t\"accentColor\": \"595144\",\n",
    "\t\"isBwImg\": false\n",
    "},\n",
    "```\n",
    "\n",
    "- {\"key\":\\[listvalue0, listvalue1, listvalue2, \\.\\.\\.\\]}\n",
    "\n",
    "```\n",
    "\"tags\": [\"bear\", \"polar\", \"animal\", \"mammal\", \"outdoor\", \"water\", \"white\", \"large\", \"walking\", \"snow\", \"standing\"],\n",
    "```\n",
    "\n",
    "### To retrieve the value from a \"key\":\"value\" request the key name\n",
    "\n",
    "import JSON library.\n",
    "\n",
    "JSON example:\n",
    "\n",
    "```\n",
    "\"requestId\": \"33290a37-ad67-42af-b647-c5a236ecd202\",\n",
    "```\n",
    "\n",
    "Using Python to call the value.\n",
    "\n",
    "```\n",
    "print(results['requestId'])\n",
    "\n",
    "33290a37-ad67-42af-b647-c5a236ecd202\n",
    "```\n",
    "\n",
    "### To request a value from a `{\"key\":{\"subkey0\":\"subvalue0\",\"subkey1\":\"subvalue1\",...}}` specify the key name and the subkey name\n",
    "\n",
    "JSON example.\n",
    "\n",
    "```\n",
    "\"color\": {\n",
    "\t\"dominantColorForeground\": \"White\",\n",
    "\t\"dominantColorBackground\": \"White\",\n",
    "\t\"dominantColors\": [\"White\"],\n",
    "\t\"accentColor\": \"595144\",\n",
    "\t\"isBwImg\": false\n",
    "},\n",
    "```\n",
    "\n",
    "Using Python call.\n",
    "\n",
    "```\n",
    "print(results['color']['dominantColorBackground'])\n",
    "\n",
    "White\n",
    "```\n",
    "\n",
    "### To retrieve a value from a `{\"key\":[listvalue0, listvalue1, listvalue2, ...]}` specify the keyname and index position of the value to retrieve\n",
    "\n",
    "JSON example.\n",
    "\n",
    "```\n",
    "\"description\": {\n",
    "\t\"tags\": [\"bear\", \"polar\", \"animal\", \"mammal\", \"outdoor\", \"water\", \"white\", \"large\", \"walking\", \"snow\", \"standing\"],\n",
    "\t\"captions\": [{\n",
    "\t\t\"text\": \"a large white polar bear walking in the water\",\n",
    "\t\t\"confidence\": 0.7419737378283093\n",
    "\t}]\n",
    "},\n",
    "```\n",
    "\n",
    "Using Python call.\n",
    "\n",
    "```\n",
    "print(results['description']['tags'][0])\n",
    "\n",
    "bear\n",
    "```\n",
    "\n",
    "###　Use a loop to retrieve all values from a `{\"key\":[listvalue0, listvalue1, listvalue2, ...]}`\n",
    "\n",
    "```\n",
    "for item in results['description']['tags']:\n",
    "\tprint(item)\n",
    "```\n",
    "\n",
    "### You can create \"key\":\"value\" JSON objects from a dictionary\n"
   ],
   "cell_type": "markdown",
   "metadata": {}
  },
  {
   "cell_type": "code",
   "execution_count": null,
   "metadata": {},
   "outputs": [],
   "source": [
    "import json\n",
    "\n",
    "# Create a dictionary object\n",
    "person_dict = {'first': 'Christopher', 'last':'Harrison'}\n",
    "# Add additional key pairs as needed to dictionary\n",
    "person_dict['City']='Seattle'\n",
    "\n",
    "# Convert dictionary to JSON object\n",
    "person_json = json.dumps(person_dict)\n",
    "print(person_json)"
   ]
  },
  {
   "source": [
    "### Nest dictionaries to create JSON in the format `{\"key\":{\"subkey0\":\"subvalue0\",\"subkey1\":\"subvalue1\",...}}`"
   ],
   "cell_type": "markdown",
   "metadata": {}
  },
  {
   "cell_type": "code",
   "execution_count": null,
   "metadata": {},
   "outputs": [],
   "source": [
    "import json\n",
    "\n",
    "# Create a dictionary object\n",
    "person_dict = {'first': 'Christopher', 'last':'Harrison'}\n",
    "\n",
    "# Create staff dictionary which assigns a person to a role\n",
    "staff_dict={}\n",
    "staff_dict['Program Manager'] = person_dict\n",
    "\n",
    "# Convert dictionary to JSON object\n",
    "staff_json = json.dumps(staff_dict)\n",
    "\n",
    "# print JSON object\n",
    "print(staff_json)"
   ]
  },
  {
   "source": [
    "### Add lists to the dictionary to create JSON in the format `{\"key\":[listvalue0, listvalue1, listvalue2, ...]}`"
   ],
   "cell_type": "markdown",
   "metadata": {}
  },
  {
   "cell_type": "code",
   "execution_count": null,
   "metadata": {},
   "outputs": [],
   "source": [
    "import json\n",
    "\n",
    "# Create a dictionary object\n",
    "person_dict = {'first': 'Christopher', 'last':'Harrison'}\n",
    "\n",
    "# Createa list object of programming languages\n",
    "language_list = ['CSharp','Python','JavaScript']\n",
    "person_dict['language'] = language_list\n",
    "\n",
    "# Convert dictionary to JSON object\n",
    "person_json = json.dumps(person_dict)\n",
    "\n",
    "# print JSON object\n",
    "print(person_json)"
   ]
  },
  {
   "source": [
    "### When creating and reading JSON\n",
    "\n",
    "- Use print statements to help you debug\n",
    "- Use a JSON linting tool to make the JSON easier to reading\n",
    "- Have a print out of the full JSON so you can figure out the structure when reading specific elements"
   ],
   "cell_type": "markdown",
   "metadata": {}
  },
  {
   "source": [
    "---\n",
    "\n",
    "## Class 39 / 44 - Demo: JSON code"
   ],
   "cell_type": "markdown",
   "metadata": {}
  },
  {
   "cell_type": "code",
   "execution_count": null,
   "metadata": {},
   "outputs": [],
   "source": [
    "# read_key_pair.py\n",
    "# This code will show you how to call the Computer Vision API from Python\n",
    "# You can find documentation on the Computer Vision Analyze Image method here\n",
    "# https://westus.dev.cogitive.microsoft.com/docs/services/\n",
    "\n",
    "# Use the requests library to simplify making a REST API call from Python\n",
    "import requests\n",
    "\n",
    "# We will need the json library to read the data passed back\n",
    "# by the web service\n",
    "import json\n",
    "\n",
    "# We need the address of our Computer vision service\n",
    "vision_service_address = \"https://canadacentral.api.cognitive.microsoft.com/vision/v2.0/\"\n",
    "# Add the name of the function we want to call th the address\n",
    "address = vision_service_address + \"analyze\"\n",
    "\n",
    "...\n",
    "...\n"
   ]
  },
  {
   "cell_type": "code",
   "execution_count": null,
   "metadata": {},
   "outputs": [],
   "source": [
    "# read_subkey.py\n",
    "...\n",
    "...\n",
    "# Raise an exception if the call returns an error code\n",
    "response.raise_fir_status()\n",
    "\n",
    "# Display the raw JSON results returned\n",
    "results = response.json()\n",
    "print(json.dumps(results))\n",
    "\n",
    "# Print the value for dominantColorBackground from the color keys\n",
    "print()\n",
    "print('dominantColorBackground')\n",
    "print(results['color']['dominantColorBackground'])"
   ]
  },
  {
   "cell_type": "code",
   "execution_count": null,
   "metadata": {},
   "outputs": [],
   "source": [
    "# read_key_pair_list.py\n",
    "...\n",
    "...\n",
    "# Display the JSON results returned in their raw JSON format\n",
    "results = response.json()\n",
    "print(json.dumps(results))\n",
    "\n",
    "# Print out all the tags in the description\n",
    "print()\n",
    "print('all tags')\n",
    "for item in results['description']['tags']:\n",
    "    print(item)\n",
    "\n",
    "# print out the first tag in the description\n",
    "print()\n",
    "print('first_tag')\n",
    "print(results['description']['tags'][0])\n"
   ]
  },
  {
   "cell_type": "code",
   "execution_count": null,
   "metadata": {},
   "outputs": [],
   "source": [
    "# create_json_from_dict..py \n",
    "import json\n",
    "\n",
    "# Create a dictionary object\n",
    "person_dict = {'first': 'Christopher', 'last':'Harrison'}\n",
    "# Add additional key pairs to dictionary as needed\n",
    "person_dict['City'] ='Seattle'\n",
    "\n",
    "# Convert dictionary to JSON object\n",
    "person_json = json.dumps(person_dict)\n",
    "\n",
    "# Print JSON object\n",
    "print(person_json)"
   ]
  },
  {
   "cell_type": "code",
   "execution_count": null,
   "metadata": {},
   "outputs": [],
   "source": [
    "# create_json_from_dict.py \n",
    "\n",
    "import json\n",
    "\n",
    "# Create a dictionary object\n",
    "person_dict = {'first': 'Christopher', 'last':'Harrison'}\n",
    "# Add additional key pairs to dictionary as needed\n",
    "person_dict['City'] ='Seattle'\n",
    "\n",
    "# create a staff dictionary\n",
    "# assign a person to a staff position of program manager\n",
    "staff_dict = {}\n",
    "staff_dict['program Mananger'] = person_dict \n",
    "# Convert dictionary to JSON object\n",
    "staff_json = json.dumps(staff_dict)\n",
    "\n",
    "# Print JSON object\n",
    "print(staff_json)"
   ]
  },
  {
   "cell_type": "code",
   "execution_count": null,
   "metadata": {},
   "outputs": [],
   "source": [
    "# create_json_with_list.py \n",
    "\n",
    "import json \n",
    "\n",
    "# Create a dictionary object\n",
    "person_dict = {'first': 'Christopher', 'last':'Harrison'}\n",
    "# Add additional key pairs to dictionary as needed\n",
    "person_dict['City']= 'Seattle'\n",
    "\n",
    "# Create a list object of programming languages\n",
    "languages_list = ['CSharp', 'Python', 'JavaScript']\n",
    "\n",
    "# Add list object to dictionary for the languages key\n",
    "person_dict['languages']= languages_list\n",
    "\n",
    "# Convert dictionary to JSON object\n",
    "person_json = json.dumps(person_dict)\n",
    "\n",
    "# Print JSON object\n",
    "print(person_json)"
   ]
  },
  {
   "source": [
    "---\n",
    "\n",
    "## Class 40 / 44: Managing keys\n",
    "\n",
    "### Values from outside of your application\n",
    "\n",
    "- Connecting to a database\n",
    "- Determining the operating system\n",
    "- Setting which need to change\n",
    "- Sensitive data\n",
    "\n",
    "### Reading an environment variable"
   ],
   "cell_type": "markdown",
   "metadata": {}
  },
  {
   "cell_type": "code",
   "execution_count": null,
   "metadata": {},
   "outputs": [],
   "source": [
    "import os\n",
    "os_version = os.getenv('OS')\n",
    "print(os_version)"
   ]
  },
  {
   "source": [
    "### Using dotenv\n",
    "\n",
    "Store environmental variables in text file\n",
    "\n",
    "Don't hard code\n",
    "\n",
    "Don't check sensitive values into source control\n",
    "```\n",
    "# .env file\n",
    "DATABASE=Sample_connection_String\n",
    "\n",
    "# app.py\n",
    "from dotenv import load_dotenv\n",
    "import os\n",
    "load_dotenv()\n",
    "database = os.getenv('DATABASE')\n",
    "print(database)\n",
    "```\n",
    "\n",
    "### Final notes\n",
    "\n",
    "Don't hard code sensitive information **EVER**\n",
    "\n",
    "Use dotenv for a simple solution\n",
    "\n",
    "Add `.env` to `.gitignore`\n",
    "\n",
    "Consider full encryption options"
   ],
   "cell_type": "markdown",
   "metadata": {}
  },
  {
   "source": [
    "---\n",
    "\n",
    "## Class 41 / 44 : Demo - Managing keys code\n",
    "\n",
    "### Install dotenv package\n",
    "\n",
    "In `requirements.txt`\n",
    "```\n",
    "python-dotenv\n",
    "```\n",
    "\n",
    "powershell or bash\n",
    "```\n",
    "pip install -r ./requirements.txt\n",
    "```\n",
    "\n",
    "In the `.env`\n",
    "```\n",
    "PASSWORD=Don_t share this value\n",
    "```"
   ],
   "cell_type": "markdown",
   "metadata": {}
  },
  {
   "cell_type": "code",
   "execution_count": null,
   "metadata": {},
   "outputs": [],
   "source": [
    "# app.py\n",
    "from dotenv import load_dotenv\n",
    "load_dotenv()\n",
    "import os\n",
    "\n",
    "password = os.getenv('PASSWORD')\n",
    "\n",
    "print(password)"
   ]
  },
  {
   "source": [
    "---\n",
    "\n",
    "## Class 42 / 44: Decorators\n",
    "\n",
    "### Programming components\n",
    "\n",
    "- Objects\n",
    "\n",
    "Nouns\n",
    "\n",
    "Data constructs\n",
    "\n",
    "- Functions/Methods\n",
    "\n",
    "Verbs\n",
    "\n",
    "Actions\n",
    "\n",
    "### Decorators\n",
    "\n",
    "#### Adjectives\n",
    "\n",
    "#### Add additional functionality to code\n",
    "\n",
    "#### Common in frameworks\n",
    "\n",
    "- Django\n",
    "\n",
    "- Flask\n",
    "\n",
    "### Using a decorator\n",
    "\n",
    "```python\n",
    "# Snippet from Flask\n",
    "# register https://myserver/api/products\n",
    "\n",
    "@route('api/products')\n",
    "def get_products:\n",
    "    # code to list from database\n",
    "    pass\n",
    "```\n",
    "\n",
    "### Creating a decorator\n",
    "\n",
    "```\n",
    "def logger(func):\n",
    "    def wrapper():\n",
    "        print('Lgging execution')\n",
    "        func()\n",
    "        print('Done logging')\n",
    "    return wrapper\n",
    "\n",
    "@logger\n",
    "def sample():\n",
    "    print('-- Inside sample function')\n",
    "\n",
    "sample()\n",
    "```\n",
    "\n",
    "Show result:\n",
    "\n",
    "```\n",
    "Logging execution\n",
    "-- Inside sample function\n",
    "Done logging\n",
    "```"
   ],
   "cell_type": "markdown",
   "metadata": {}
  },
  {
   "source": [
    "---\n",
    "\n",
    "## Class 43 / 44: Demo - Decorators"
   ],
   "cell_type": "markdown",
   "metadata": {}
  },
  {
   "cell_type": "code",
   "execution_count": 2,
   "metadata": {},
   "outputs": [
    {
     "output_type": "stream",
     "name": "stdout",
     "text": [
      "Lgging execution\n-- Inside sample function\nDone logging\n"
     ]
    }
   ],
   "source": [
    "# demos.py \n",
    "\n",
    "def logger(func):\n",
    "    def wrapper():\n",
    "        print('Lgging execution')\n",
    "        func()\n",
    "        print('Done logging')\n",
    "    return wrapper\n",
    "\n",
    "@logger\n",
    "def sample():\n",
    "    print('-- Inside sample function')\n",
    "\n",
    "sample()"
   ]
  },
  {
   "source": [
    "---\n",
    "\n",
    "## Class 44 / 44: Next Steps\n",
    "\n",
    "After the basic skill python code learning, user can make own code and using other packages. \n",
    "\n",
    "User can take a look the example code on the online tutorials.\n",
    "\n",
    "First, users need to check the prerequisites and make the tings on the list done, then follow the example code to make your own code.\n",
    "\n",
    "Use the tutorials as a way of practicing and learning new commands as well.\n",
    "\n",
    "Happy coding.\n",
    "\n"
   ],
   "cell_type": "markdown",
   "metadata": {}
  }
 ]
}